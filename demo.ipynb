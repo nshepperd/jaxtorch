{
 "cells": [
  {
   "cell_type": "code",
   "execution_count": 1,
   "metadata": {},
   "outputs": [],
   "source": [
    "import jax\n",
    "import jax.numpy as jnp\n",
    "import jaxtorch\n",
    "from jaxtorch import nn, Context\n",
    "from tqdm import tqdm\n",
    "import optax"
   ]
  },
  {
   "cell_type": "code",
   "execution_count": 2,
   "metadata": {},
   "outputs": [
    {
     "name": "stdout",
     "output_type": "stream",
     "text": [
      "Setup!\n",
      "params= {'linear1.weight': (64, 10), 'linear1.bias': (64,), 'linear2.weight': (1, 64), 'linear2.bias': (1,)}\n",
      "model.linear2.weight= <Param at linear2.weight (1, 64)>\n"
     ]
    }
   ],
   "source": [
    "# Define a model using pytorch-style modules\n",
    "class MLP(jaxtorch.Module):\n",
    "    def __init__(self, input_dim, hidden_dim, output_dim):\n",
    "        super().__init__()\n",
    "        self.linear1 = nn.Linear(input_dim, hidden_dim)\n",
    "        self.linear2 = nn.Linear(hidden_dim, output_dim)\n",
    "    \n",
    "    # The forward function accepts cx, a Context object as the first argument\n",
    "    # always. This provides random number generation as well as the parameters.\n",
    "    def forward(self, cx: Context, x: jax.Array):\n",
    "        x = jax.nn.relu(self.linear1(cx, x))\n",
    "        return self.linear2(cx, x)\n",
    "    \n",
    "    # If you want to do a custom initialization of paramaters, you can override setup()\n",
    "    def setup(self, cx):\n",
    "        super().setup(cx)\n",
    "        print('Setup!')\n",
    "        cx[self.linear2.weight] = jnp.zeros(self.linear2.weight.shape)\n",
    "\n",
    "# Create and initialize the model\n",
    "model = MLP(10, 64, 1)\n",
    "rng = jaxtorch.PRNG(jax.random.PRNGKey(0))\n",
    "params = model.initialize(rng.split())\n",
    "\n",
    "# In jaxtorch, parameters are stored seperately from the model itself.\n",
    "# The params dict contains all parameters of the model indexed by name.\n",
    "print('params=', {k: v.shape for (k, v) in params.items()})\n",
    "\n",
    "# The \"weights\" in the Module tree are jaxtorch.Param objects which store only the name and shape.\n",
    "print('model.linear2.weight=', model.linear2.weight)"
   ]
  },
  {
   "cell_type": "code",
   "execution_count": 3,
   "metadata": {},
   "outputs": [
    {
     "name": "stdout",
     "output_type": "stream",
     "text": [
      "Initial loss: 0.9808868\n"
     ]
    },
    {
     "name": "stderr",
     "output_type": "stream",
     "text": [
      "100%|██████████| 100/100 [00:00<00:00, 118.37it/s]"
     ]
    },
    {
     "name": "stdout",
     "output_type": "stream",
     "text": [
      "Final loss: 0.0001356766\n"
     ]
    },
    {
     "name": "stderr",
     "output_type": "stream",
     "text": [
      "\n"
     ]
    }
   ],
   "source": [
    "# Create an optimizer using optax\n",
    "opt = optax.adam(0.01)\n",
    "opt_state = opt.init(params)\n",
    "\n",
    "# Training loop example with dummy data\n",
    "@jax.jit\n",
    "def loss_fn(params, key, x, y):\n",
    "    # To run the model forward, we need to create the Context object and pass it.\n",
    "    cx = Context(params, key)\n",
    "    pred = model(cx, x)\n",
    "    return jnp.mean((pred - y) ** 2)\n",
    "\n",
    "grad_fn = jax.value_and_grad(loss_fn)\n",
    "\n",
    "x = jax.random.normal(rng.split(), (100, 10))\n",
    "y = jax.random.normal(rng.split(), (100, 1))\n",
    "\n",
    "print('Initial loss:', loss_fn(params, rng.split(), x, y))\n",
    "for step in tqdm(range(100)):\n",
    "    loss, grads = grad_fn(params, rng.split(), x, y)\n",
    "    updates, opt_state = opt.update(grads, opt_state, params)\n",
    "    params = optax.apply_updates(params, updates)\n",
    "print('Final loss:', loss)"
   ]
  },
  {
   "cell_type": "code",
   "execution_count": null,
   "metadata": {},
   "outputs": [],
   "source": []
  }
 ],
 "metadata": {
  "kernelspec": {
   "display_name": ".venv",
   "language": "python",
   "name": "python3"
  },
  "language_info": {
   "codemirror_mode": {
    "name": "ipython",
    "version": 3
   },
   "file_extension": ".py",
   "mimetype": "text/x-python",
   "name": "python",
   "nbconvert_exporter": "python",
   "pygments_lexer": "ipython3",
   "version": "3.13.1"
  }
 },
 "nbformat": 4,
 "nbformat_minor": 2
}
